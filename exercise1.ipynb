{
 "cells": [
  {
   "cell_type": "markdown",
   "id": "74e02642",
   "metadata": {},
   "source": [
    "## Exercise 1"
   ]
  },
  {
   "cell_type": "markdown",
   "id": "5fb85c5e",
   "metadata": {},
   "source": [
    "#### Question 1:\n",
    "Write a function that receives a list as parameter and return how many elements it has; if it doesn't have any element return an error."
   ]
  },
  {
   "cell_type": "markdown",
   "id": "e0bc596b",
   "metadata": {},
   "source": [
    "#### Answer 1:"
   ]
  },
  {
   "cell_type": "code",
   "execution_count": null,
   "id": "bd94655f",
   "metadata": {},
   "outputs": [
    {
     "name": "stdout",
     "output_type": "stream",
     "text": [
      "3\n",
      "1\n"
     ]
    }
   ],
   "source": [
    "def count_elements(lst):\n",
    "    if not lst:\n",
    "        raise ValueError(\"Liste boş: en az bir elemana sahip olmalı\")\n",
    "    return len(lst)\n",
    "\n",
    "\n",
    "print(count_elements([1, 2, 3]))  \n",
    "print(count_elements([1]))    \n",
    "#    print(count_elements([]))   eror \n"
   ]
  },
  {
   "cell_type": "markdown",
   "id": "50eb6779",
   "metadata": {},
   "source": [
    "#### Question 2:\n",
    "Write a function that builds a character‑count dict from a string, with an option to ignore case."
   ]
  },
  {
   "cell_type": "markdown",
   "id": "862eb2c2",
   "metadata": {},
   "source": [
    "#### Answer 2:"
   ]
  },
  {
   "cell_type": "code",
   "execution_count": 6,
   "id": "efd8d341",
   "metadata": {},
   "outputs": [
    {
     "name": "stdout",
     "output_type": "stream",
     "text": [
      "{'E': 2, ',': 1, 'e': 2}\n",
      "{'e': 4, ' ': 1}\n"
     ]
    }
   ],
   "source": [
    "def char_count_dict(s, ignore_case=False):\n",
    "    if ignore_case:\n",
    "        s = s.lower()\n",
    "    counts = {}\n",
    "    for ch in s:\n",
    "        counts[ch] = counts.get(ch, 0) + 1\n",
    "    return counts\n",
    "\n",
    "\n",
    "print(char_count_dict(\"EE,ee\"))  \n",
    "\n",
    "\n",
    "print(char_count_dict(\"EE ee\", ignore_case=True))  \n",
    "\n"
   ]
  },
  {
   "cell_type": "markdown",
   "id": "a2ae4501",
   "metadata": {},
   "source": [
    "#### Question 3:\n",
    "Write a function that filters a list of numbers by a threshold and returns their squares"
   ]
  },
  {
   "cell_type": "markdown",
   "id": "25a2ba90",
   "metadata": {},
   "source": [
    "#### Answer 3:"
   ]
  },
  {
   "cell_type": "code",
   "execution_count": null,
   "id": "723403ef",
   "metadata": {},
   "outputs": [
    {
     "name": "stdout",
     "output_type": "stream",
     "text": [
      "[25, 100]\n"
     ]
    }
   ],
   "source": [
    "\n",
    "def threshold (numbers, threshold):\n",
    "    result = []\n",
    "    for value in numbers:\n",
    "        if value > threshold:\n",
    "            result.append(value * value)\n",
    "    return result \n",
    "nums = [1, 5, 3, 10, 2]\n",
    "thr = 4\n",
    "print(threshold(nums, thr)) \n",
    "      "
   ]
  }
 ],
 "metadata": {
  "kernelspec": {
   "display_name": "Python 3",
   "language": "python",
   "name": "python3"
  },
  "language_info": {
   "codemirror_mode": {
    "name": "ipython",
    "version": 3
   },
   "file_extension": ".py",
   "mimetype": "text/x-python",
   "name": "python",
   "nbconvert_exporter": "python",
   "pygments_lexer": "ipython3",
   "version": "3.11.8"
  }
 },
 "nbformat": 4,
 "nbformat_minor": 5
}
