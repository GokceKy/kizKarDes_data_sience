{
 "cells": [
  {
   "cell_type": "markdown",
   "id": "dc919077",
   "metadata": {},
   "source": [
    "Use and experience methods from previous lessons with given data. Try to search for other pandas methods to analyze the data such as groupby() and query(). Write functions for repetitive tasks.\n",
    "\n",
    "TODOs:\n",
    "\n",
    "See the spread of pandemic in different countries.\n",
    "Plot graphs for Reproduction Rate for different countries side by side or in the same graph.\n",
    "Check correlation between deaths and recoveries.\n",
    "Compare recoveries between countries.\n",
    "Are there any outliers (anomalies)?"
   ]
  },
  {
   "cell_type": "code",
   "execution_count": null,
   "id": "81f86168",
   "metadata": {},
   "outputs": [],
   "source": [
    "# You can find covid related data under project's data folder \n",
    "base_url = \"../data/covid/\"\n",
    "infected_dataset_url = base_url + \"time_series_covid19_confirmed_global.csv\"\n",
    "recovered_dataset_url = base_url + \"time_series_covid19_recovered_global.csv\"\n",
    "deaths_dataset_url = base_url + \"time_series_covid19_deaths_global.csv\"\n"
   ]
  }
 ],
 "metadata": {
  "language_info": {
   "name": "python"
  }
 },
 "nbformat": 4,
 "nbformat_minor": 5
}
